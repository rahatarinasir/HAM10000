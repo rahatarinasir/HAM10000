{
  "cells": [
    {
      "cell_type": "markdown",
      "metadata": {
        "id": "view-in-github",
        "colab_type": "text"
      },
      "source": [
        "<a href=\"https://colab.research.google.com/github/rahatarinasir/HAM10000/blob/main/Transfer_learning_implementation_code_.ipynb\" target=\"_parent\"><img src=\"https://colab.research.google.com/assets/colab-badge.svg\" alt=\"Open In Colab\"/></a>"
      ]
    },
    {
      "cell_type": "markdown",
      "metadata": {
        "id": "i_nOhAosCDTq"
      },
      "source": [
        "## Initialization "
      ]
    },
    {
      "cell_type": "code",
      "execution_count": null,
      "metadata": {
        "id": "gkn4wm_ECDTu"
      },
      "outputs": [],
      "source": [
        "import keras\n",
        "import tensorflow as tf\n",
        "from tensorflow.keras.applications.resnet import ResNet50, ResNet101, ResNet152, preprocess_input\n",
        "import random \n",
        "import numpy as np\n",
        "import pandas as pd\n",
        "import cv2\n",
        "\n",
        "# data_path = 'https://dataverse.harvard.edu/dataset.xhtml?persistentId=doi:10.7910/DVN/DBW86T'"
      ]
    },
    {
      "cell_type": "markdown",
      "metadata": {
        "id": "kr37jxNKCDTz"
      },
      "source": [
        "## Meta data loading \n"
      ]
    },
    {
      "cell_type": "code",
      "execution_count": null,
      "metadata": {
        "id": "N9yD6AIBCDT3"
      },
      "outputs": [],
      "source": [
        "path_to_metadata = 'G:/Data/HAM10000_metadata.csv'\n",
        "metadata =pd.read_csv(path_to_metadata)"
      ]
    },
    {
      "cell_type": "markdown",
      "metadata": {
        "id": "T7uLYjUmCDT_"
      },
      "source": [
        "## Computation of class weights"
      ]
    },
    {
      "cell_type": "code",
      "execution_count": null,
      "metadata": {
        "id": "HW555Ys9CDUC"
      },
      "outputs": [],
      "source": [
        "# class_weights = {0:1, 1:1, 2:1, 3:10, 4:1, 5:20, 6:20}\n",
        "\n",
        "label = ['mel', 'nv', 'bcc',  'akiec', 'bkl', 'df', 'vasc']\n",
        "\n",
        "def estimate_class_weights(label, method = 'mfb'):\n",
        "    class_weights = np.zeros_like(label, dtype = np.float32)\n",
        "    counts = np.zeros_like(label)\n",
        "    for i,l in enumerate(label):\n",
        "        counts[i] = metadata[metadata['dx']==str(l)]['dx'].value_counts()[0]\n",
        "    counts = counts.astype(np.float32)\n",
        "    median_freq = np.median(counts)\n",
        "    mode_freq = np.max(counts)\n",
        "\n",
        "    func = lambda x:median_freq / x if method == 'mfb' else mode_freq/x\n",
        "    class_weights = list(map(func, counts))\n",
        "    weights = {i:class_weights[i] for i in range(7)}\n",
        "    \n",
        "    return weights\n",
        "\n",
        "\n",
        "class_weights = estimate_class_weights(label, method = 'mfb')\n",
        "class_weights"
      ]
    },
    {
      "cell_type": "markdown",
      "metadata": {
        "id": "WCNUKUZiCDUF"
      },
      "source": [
        "## Sequence generator"
      ]
    },
    {
      "cell_type": "code",
      "execution_count": null,
      "metadata": {
        "id": "6_QWuT8yCDUH"
      },
      "outputs": [],
      "source": [
        "class DataGenerator(tf.keras.utils.Sequence):\n",
        "\n",
        "    def __init__(self,\n",
        "                 batch_size = 5,\n",
        "                 dim = (224, 224),\n",
        "                 n_channels = 3,\n",
        "                 n_classes = 7,\n",
        "                 shuffle = True,\n",
        "                 images_address = 'G:\\Data\\ISIC2018_Task3_Training_Input\\\\',\n",
        "                 label_address = 'G:\\Data\\ISIC2018_Task3_Training_GroundTruth\\ISIC2018_Task3_Training_GroundTruth.csv'\n",
        "                 ):\n",
        "\n",
        "        self.dim = dim\n",
        "        self.batch_size = batch_size\n",
        "        self.n_channels = n_channels\n",
        "        self.n_classes = n_classes\n",
        "        self.shuffle = shuffle\n",
        "        self.images_address = images_address\n",
        "        self.labels = pd.read_csv(label_address)\n",
        "        self.image_name = self.labels['image'].values\n",
        "        self.labels.drop(columns=['image'], inplace=True)\n",
        "        self.on_epoch_end()\n",
        "\n",
        "    def __len__(self):\n",
        "\n",
        "        'Denotes the number of batches per epoch'\n",
        "        return int(np.floor(len(self.image_name) / self.batch_size))\n",
        "\n",
        "    def __getitem__(self, index):\n",
        "\n",
        "        # Generate indexes of the batch\n",
        "        indexes = self.indexes[index * self.batch_size:(index + 1) * self.batch_size]\n",
        "\n",
        "        # Find a list of labels\n",
        "        labels_index_temp = [self.image_name[k] for k in indexes]\n",
        "\n",
        "        # Generate data\n",
        "        X, y = self.__data_generation(labels_index_temp)\n",
        "\n",
        "        return X, y\n",
        "\n",
        "    def on_epoch_end(self):\n",
        "\n",
        "        'Updates indexes after each epoch'\n",
        "        self.indexes = np.arange(len(self.image_name))\n",
        "        if self.shuffle:\n",
        "            np.random.shuffle(self.indexes)\n",
        "\n",
        "\n",
        "    def __data_generation(self, labels_index_temp):\n",
        "\n",
        "        # Generates data containing batch_size samples'\n",
        "\n",
        "        input_data = np.empty((self.batch_size, *self.dim, self.n_channels))\n",
        "        label = np.empty((self.batch_size, self.n_classes), dtype=np.float32)\n",
        "\n",
        "        for index, item in enumerate(labels_index_temp):\n",
        "\n",
        "            img = cv2.imread(self.images_address + item + '.jpg')\n",
        "            img = cv2.resize(img, self.dim, cv2.INTER_CUBIC)\n",
        "            input_data[index,] = tf.keras.applications.resnet50.preprocess_input(img)\n",
        "            label[index] = self.labels.values[np.where(self.image_name == item)]\n",
        "\n",
        "\n",
        "        return input_data.astype(np.float32), label\n"
      ]
    },
    {
      "cell_type": "markdown",
      "metadata": {
        "id": "FX39-IlhCDUJ"
      },
      "source": [
        "## Data loading "
      ]
    },
    {
      "cell_type": "code",
      "execution_count": null,
      "metadata": {
        "id": "90SgLYYdCDUL"
      },
      "outputs": [],
      "source": [
        "img_path_tr = 'G:\\Data\\ISIC2018_Task3_Training_Input\\\\'\n",
        "label_path_tr = 'G:\\Data\\ISIC2018_Task3_Training_GroundTruth\\ISIC2018_Task3_Training_GroundTruth.csv'\n",
        "img_path_val = 'G:\\Data\\ISIC2018_Task3_Validation_Input\\\\'\n",
        "label_path_val = 'G:\\Data\\ISIC2018_Task3_Validation_GroundTruth\\ISIC2018_Task3_Validation_GroundTruth.csv'\n",
        " \n",
        "batch_size = 5\n",
        "train_generator = DataGenerator(batch_size = batch_size, \n",
        "                               images_address = img_path_tr, \n",
        "                               label_address = label_path_tr)\n",
        "\n",
        "validation_generator = DataGenerator(batch_size = batch_size, \n",
        "                               images_address = img_path_val, \n",
        "                               label_address = label_path_val)\n"
      ]
    },
    {
      "cell_type": "markdown",
      "metadata": {
        "id": "A96dcU26CDUM"
      },
      "source": [
        "## Transfer learning - Feature represenation of ResNet50 with a customized learning) "
      ]
    },
    {
      "cell_type": "code",
      "execution_count": null,
      "metadata": {
        "id": "hj2lBqr2CDUN"
      },
      "outputs": [],
      "source": [
        "feature_maps = ResNet50(weights = 'imagenet', include_top = False, input_shape = (224, 224, 3)) \n",
        "model = keras.models.Sequential()\n",
        "feature_maps.trainable = False\n",
        "model.add(feature_maps)\n",
        "# model.add(keras.layers.MaxPool2D((7, 7)))\n",
        "model.add(keras.layers.Flatten())\n",
        "model.add(keras.layers.Dense(7, activation = 'softmax'))\n",
        "model.summary()"
      ]
    },
    {
      "cell_type": "code",
      "execution_count": null,
      "metadata": {
        "id": "gFDUG-QVCDUO"
      },
      "outputs": [],
      "source": [
        "# model.load_weights('cancer_model_primary_frozen_layers_weighting.hdf5')"
      ]
    },
    {
      "cell_type": "markdown",
      "metadata": {
        "id": "ttnCVwiWCDUP"
      },
      "source": [
        "#### Another way of construction"
      ]
    },
    {
      "cell_type": "code",
      "execution_count": null,
      "metadata": {
        "id": "gEq6WUccCDUP"
      },
      "outputs": [],
      "source": [
        "# target_model = feature_maps.output\n",
        "# target_model = keras.layers.AveragePooling2D(pool_size = (7, 7))(target_model)\n",
        "# target_model = keras.layers.Flatten()(target_model)\n",
        "# target_model = keras.layers.Dense(7, activation = 'softmax')(target_model)\n",
        "# model = keras.models.Model(inputs = feature_maps.input, outputs = target_model)"
      ]
    },
    {
      "cell_type": "markdown",
      "metadata": {
        "id": "15KvFFl9CDUQ"
      },
      "source": [
        "## Model configuration"
      ]
    },
    {
      "cell_type": "code",
      "execution_count": null,
      "metadata": {
        "scrolled": true,
        "id": "yVAsfz2oCDUQ"
      },
      "outputs": [],
      "source": [
        "# class_weights = {0:1, 1:1, 2:1, 3:10, 4:1, 5:20, 6:20}\n",
        "\n",
        "model.compile(optimizer = tf.keras.optimizers.Adam(learning_rate=1e-3), \n",
        "              loss = 'categorical_crossentropy', \n",
        "              metrics =['categorical_crossentropy', 'accuracy'])\n",
        "\n",
        "model.fit(train_generator, \n",
        "          validation_data = validation_generator, \n",
        "          epochs = 10,  \n",
        "          shuffle = True, \n",
        "          class_weight=class_weights)"
      ]
    },
    {
      "cell_type": "code",
      "execution_count": null,
      "metadata": {
        "id": "v0DB2zNyCDUS"
      },
      "outputs": [],
      "source": [
        "# model.save('model.hdf5')"
      ]
    },
    {
      "cell_type": "code",
      "execution_count": null,
      "metadata": {
        "id": "JX5XxOUOCDUS"
      },
      "outputs": [],
      "source": [
        "validation_generator = DataGenerator(batch_size = 1, \n",
        "                               images_address = img_path_val, \n",
        "                               label_address = label_path_val)\n",
        "\n",
        "\n",
        "y_tr_pre = []\n",
        "y_tr_te = []\n",
        "for x, y in validation_generator:\n",
        "    y_pre_te = model.predict(x)\n",
        "    y_tr_pre.append(np.argmax(y_pre_te[0], axis = 0))\n",
        "    y_tr_te.append(np.argmax(y[0], axis = 0))\n"
      ]
    },
    {
      "cell_type": "code",
      "execution_count": null,
      "metadata": {
        "id": "eyMdrJobCDUT"
      },
      "outputs": [],
      "source": [
        "from sklearn.metrics import confusion_matrix, classification_report\n",
        "print(confusion_matrix(y_tr_te, y_tr_pre))"
      ]
    },
    {
      "cell_type": "code",
      "execution_count": null,
      "metadata": {
        "id": "6H_QsZXlCDUU"
      },
      "outputs": [],
      "source": [
        "print(classification_report(y_tr_te, y_tr_pre))"
      ]
    },
    {
      "cell_type": "code",
      "execution_count": null,
      "metadata": {
        "id": "XAZwAAXuCDUU"
      },
      "outputs": [],
      "source": [
        "train_generator = DataGenerator(batch_size = 1, \n",
        "                               images_address = img_path_tr, \n",
        "                               label_address = label_path_tr)\n",
        "\n",
        "y_tr_pre = []\n",
        "y_tr_te = []\n",
        "for x, y in train_generator:\n",
        "    y_pre_te = model.predict(x)\n",
        "    y_tr_pre.append(np.argmax(y_pre_te[0], axis = 0))\n",
        "    y_tr_te.append(np.argmax(y[0], axis = 0))"
      ]
    },
    {
      "cell_type": "code",
      "execution_count": null,
      "metadata": {
        "id": "C2cQFlQiCDUV"
      },
      "outputs": [],
      "source": [
        "print(confusion_matrix(y_tr_te, y_tr_pre))"
      ]
    },
    {
      "cell_type": "code",
      "execution_count": null,
      "metadata": {
        "id": "RKd3D-xYCDUW"
      },
      "outputs": [],
      "source": [
        "print(classification_report(y_tr_te, y_tr_pre))"
      ]
    },
    {
      "cell_type": "code",
      "execution_count": null,
      "metadata": {
        "id": "FpCRrcttCDUX"
      },
      "outputs": [],
      "source": [
        ""
      ]
    },
    {
      "cell_type": "code",
      "execution_count": null,
      "metadata": {
        "id": "K-cmNm2gCDUX"
      },
      "outputs": [],
      "source": [
        ""
      ]
    }
  ],
  "metadata": {
    "kernelspec": {
      "display_name": "Python 3",
      "language": "python",
      "name": "python3"
    },
    "language_info": {
      "codemirror_mode": {
        "name": "ipython",
        "version": 3
      },
      "file_extension": ".py",
      "mimetype": "text/x-python",
      "name": "python",
      "nbconvert_exporter": "python",
      "pygments_lexer": "ipython3",
      "version": "3.8.5"
    },
    "colab": {
      "name": "Transfer-learning-implementation-code .ipynb",
      "provenance": [],
      "include_colab_link": true
    }
  },
  "nbformat": 4,
  "nbformat_minor": 0
}